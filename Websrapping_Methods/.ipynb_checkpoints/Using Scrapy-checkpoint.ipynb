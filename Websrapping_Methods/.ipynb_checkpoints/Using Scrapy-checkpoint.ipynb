{
 "cells": [
  {
   "cell_type": "markdown",
   "id": "37f8c794-def9-4dd4-9cbc-87169ec8a365",
   "metadata": {},
   "source": [
    "Step1. Install Scrapy\n",
    "            First, you need to install Scrapy. You can do this using pip:\n",
    "\n",
    "=>pip install scrapy\n",
    "\n",
    "Step2. Create a Scrapy Project\n",
    "            Although not necessary for a single spider, it's a good practice to create a Scrapy project. This helps manage spiders, settings, and other components more efficiently. To create a project:\n",
    "\n",
    "=>scrapy startproject myproject\n",
    "\n",
    "Replace myproject with the name you want for your project. This command will create a directory with the project structure.\n",
    "\n",
    "Step3. Create the Spider\n",
    "Navigate to your project's directory:\n",
    "\n",
    "=> cd myproject\n",
    "\n",
    "Create a spider file, for example, w3schools_spider.py, in the spiders folder:\n",
    "\n",
    "=> touch myproject/spiders/w3schools_spider.py\n"
   ]
  },
  {
   "cell_type": "code",
   "execution_count": 1,
   "id": "62c819b5-8d40-49fd-9789-320ea874d940",
   "metadata": {},
   "outputs": [],
   "source": [
    "import scrapy\n",
    "\n",
    "class W3SchoolsSpider(scrapy.Spider):\n",
    "    name = 'w3schools'\n",
    "    start_urls = ['https://www.w3schools.com/']\n",
    "\n",
    "    def parse(self, response):\n",
    "        tutorials = response.css('div.w3-bar-block a.w3-bar-item')\n",
    "        for tutorial in tutorials:\n",
    "            yield {\n",
    "                'title': tutorial.css('::text').get().strip(),\n",
    "                'url': response.urljoin(tutorial.css('::attr(href)').get()),\n",
    "            }\n",
    "\n",
    "# To run the spider:\n",
    "# scrapy runspider w3schools_spider.py -o tutorials.json\n"
   ]
  },
  {
   "cell_type": "raw",
   "id": "a2f4c8ca-c2dd-47b8-abe4-859a0ac468c1",
   "metadata": {},
   "source": [
    "\n",
    "Step4. Run the Spider\n",
    "    To run the spider and save the output to a file, use the following command:\n",
    "\n",
    "=>scrapy crawl w3schools -o tutorials.json\n",
    "\n",
    "Step5. View the Output\n",
    "After running the spider, you'll have a file named tutorials.json containing the scraped data. You can open this file with any JSON viewer or text editor to inspect the data."
   ]
  },
  {
   "cell_type": "code",
   "execution_count": null,
   "id": "6504930c-1ad5-4fd5-ab95-351b87aac45d",
   "metadata": {},
   "outputs": [],
   "source": []
  }
 ],
 "metadata": {
  "kernelspec": {
   "display_name": "Python 3 (ipykernel)",
   "language": "python",
   "name": "python3"
  },
  "language_info": {
   "codemirror_mode": {
    "name": "ipython",
    "version": 3
   },
   "file_extension": ".py",
   "mimetype": "text/x-python",
   "name": "python",
   "nbconvert_exporter": "python",
   "pygments_lexer": "ipython3",
   "version": "3.12.4"
  }
 },
 "nbformat": 4,
 "nbformat_minor": 5
}
